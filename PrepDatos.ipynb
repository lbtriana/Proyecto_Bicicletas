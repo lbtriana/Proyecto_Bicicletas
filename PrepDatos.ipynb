{
 "cells": [
  {
   "cell_type": "markdown",
   "metadata": {},
   "source": [
    "### LIMPIEZA DE DATOS - TAREA 1"
   ]
  },
  {
   "cell_type": "code",
   "execution_count": 6,
   "metadata": {},
   "outputs": [
    {
     "name": "stdout",
     "output_type": "stream",
     "text": [
      "<class 'pandas.core.frame.DataFrame'>\n",
      "RangeIndex: 8760 entries, 0 to 8759\n",
      "Data columns (total 23 columns):\n",
      " #   Column                    Non-Null Count  Dtype         \n",
      "---  ------                    --------------  -----         \n",
      " 0   Date                      8760 non-null   object        \n",
      " 1   Rented Bike Count         8760 non-null   int64         \n",
      " 2   Hour                      8760 non-null   int64         \n",
      " 3   Temperature(C)            8760 non-null   float64       \n",
      " 4   Humidity(%)               8760 non-null   int64         \n",
      " 5   Wind speed (m/s)          8760 non-null   float64       \n",
      " 6   Visibility (10m)          8760 non-null   int64         \n",
      " 7   Dew point temperature(C)  8760 non-null   float64       \n",
      " 8   Solar Radiation (MJ/m2)   8760 non-null   float64       \n",
      " 9   Rainfall(mm)              8760 non-null   float64       \n",
      " 10  Snowfall (cm)             8760 non-null   float64       \n",
      " 11  Seasons                   8760 non-null   object        \n",
      " 12  Holiday                   8760 non-null   object        \n",
      " 13  Functioning Day           8760 non-null   object        \n",
      " 14  fecha                     8760 non-null   datetime64[ns]\n",
      " 15  day                       8760 non-null   int32         \n",
      " 16  month                     8760 non-null   int32         \n",
      " 17  year                      8760 non-null   int32         \n",
      " 18  day_of_week               8760 non-null   int32         \n",
      " 19  functioning_day           8760 non-null   int64         \n",
      " 20  is_holiday                8760 non-null   int64         \n",
      " 21  Hour_PM                   8760 non-null   int64         \n",
      " 22  Hour_lab                  8760 non-null   int64         \n",
      "dtypes: datetime64[ns](1), float64(6), int32(4), int64(8), object(4)\n",
      "memory usage: 1.4+ MB\n"
     ]
    },
    {
     "name": "stderr",
     "output_type": "stream",
     "text": [
      "/var/folders/xq/_99yv77n38501g_6yr1lcz280000gn/T/ipykernel_5770/2674312807.py:13: FutureWarning: Downcasting behavior in `replace` is deprecated and will be removed in a future version. To retain the old behavior, explicitly call `result.infer_objects(copy=False)`. To opt-in to the future behavior, set `pd.set_option('future.no_silent_downcasting', True)`\n",
      "  df['functioning_day'] = df['Functioning Day'].replace({'Yes': 1, 'No': 0})\n",
      "/var/folders/xq/_99yv77n38501g_6yr1lcz280000gn/T/ipykernel_5770/2674312807.py:14: FutureWarning: Downcasting behavior in `replace` is deprecated and will be removed in a future version. To retain the old behavior, explicitly call `result.infer_objects(copy=False)`. To opt-in to the future behavior, set `pd.set_option('future.no_silent_downcasting', True)`\n",
      "  df['is_holiday'] = df['Holiday'].replace({'Holiday': 1, 'No Holiday': 0})\n"
     ]
    }
   ],
   "source": [
    "import pandas as pd\n",
    "import numpy as np\n",
    "import ssl\n",
    "\n",
    "ssl._create_default_https_context = ssl._create_unverified_context # Para que la URL del archivo cvs funcione en mac\n",
    "ruta = \"https://raw.githubusercontent.com/lbtriana/Proyecto_Bicicletas/main/SeoulBikeData_utf8.csv\" #ruta desde url\n",
    "df = pd.read_csv(ruta)\n",
    "df['fecha'] = pd.to_datetime(df['Date'], format='%d/%m/%Y')\n",
    "df['day'] = df['fecha'].dt.day\n",
    "df['month'] = df['fecha'].dt.month\n",
    "df['year'] = df['fecha'].dt.year\n",
    "df['day_of_week'] = df['fecha'].dt.dayofweek\n",
    "df['functioning_day'] = df['Functioning Day'].replace({'Yes': 1, 'No': 0})\n",
    "df['is_holiday'] = df['Holiday'].replace({'Holiday': 1, 'No Holiday': 0})\n",
    "pd.set_option('future.no_silent_downcasting', True) # Esta linea es para evitar un warning de perder demasiada info al hacer downcasting\n",
    "df['Hour_PM'] = np.where(df['Hour'] >= 12, 1, 0) #1 si es hora en la tarde \n",
    "df['Hour_lab'] = np.where((df['Hour'] >= 8) & (df['Hour'] <= 17), 1, 0) #1 si es horario laboral\n",
    "\n",
    "df.info()\n"
   ]
  },
  {
   "cell_type": "code",
   "execution_count": 7,
   "metadata": {},
   "outputs": [
    {
     "name": "stdout",
     "output_type": "stream",
     "text": [
      "Date                        0\n",
      "Rented Bike Count           0\n",
      "Hour                        0\n",
      "Temperature(C)              0\n",
      "Humidity(%)                 0\n",
      "Wind speed (m/s)            0\n",
      "Visibility (10m)            0\n",
      "Dew point temperature(C)    0\n",
      "Solar Radiation (MJ/m2)     0\n",
      "Rainfall(mm)                0\n",
      "Snowfall (cm)               0\n",
      "Seasons                     0\n",
      "Holiday                     0\n",
      "Functioning Day             0\n",
      "fecha                       0\n",
      "day                         0\n",
      "month                       0\n",
      "year                        0\n",
      "day_of_week                 0\n",
      "functioning_day             0\n",
      "is_holiday                  0\n",
      "Hour_PM                     0\n",
      "Hour_lab                    0\n",
      "dtype: int64\n",
      "Date                                object\n",
      "Rented Bike Count                    int64\n",
      "Hour                                 int64\n",
      "Temperature(C)                     float64\n",
      "Humidity(%)                          int64\n",
      "Wind speed (m/s)                   float64\n",
      "Visibility (10m)                     int64\n",
      "Dew point temperature(C)           float64\n",
      "Solar Radiation (MJ/m2)            float64\n",
      "Rainfall(mm)                       float64\n",
      "Snowfall (cm)                      float64\n",
      "Seasons                             object\n",
      "Holiday                             object\n",
      "Functioning Day                     object\n",
      "fecha                       datetime64[ns]\n",
      "day                                  int32\n",
      "month                                int32\n",
      "year                                 int32\n",
      "day_of_week                          int32\n",
      "functioning_day                      int64\n",
      "is_holiday                           int64\n",
      "Hour_PM                              int64\n",
      "Hour_lab                             int64\n",
      "dtype: object\n",
      "<class 'pandas.core.frame.DataFrame'>\n",
      "RangeIndex: 8760 entries, 0 to 8759\n",
      "Data columns (total 23 columns):\n",
      " #   Column                    Non-Null Count  Dtype         \n",
      "---  ------                    --------------  -----         \n",
      " 0   Date                      8760 non-null   object        \n",
      " 1   Rented Bike Count         8760 non-null   int64         \n",
      " 2   Hour                      8760 non-null   int64         \n",
      " 3   Temperature(C)            8760 non-null   float64       \n",
      " 4   Humidity(%)               8760 non-null   int64         \n",
      " 5   Wind speed (m/s)          8760 non-null   float64       \n",
      " 6   Visibility (10m)          8760 non-null   int64         \n",
      " 7   Dew point temperature(C)  8760 non-null   float64       \n",
      " 8   Solar Radiation (MJ/m2)   8760 non-null   float64       \n",
      " 9   Rainfall(mm)              8760 non-null   float64       \n",
      " 10  Snowfall (cm)             8760 non-null   float64       \n",
      " 11  Seasons                   8760 non-null   object        \n",
      " 12  Holiday                   8760 non-null   object        \n",
      " 13  Functioning Day           8760 non-null   object        \n",
      " 14  fecha                     8760 non-null   datetime64[ns]\n",
      " 15  day                       8760 non-null   int32         \n",
      " 16  month                     8760 non-null   int32         \n",
      " 17  year                      8760 non-null   int32         \n",
      " 18  day_of_week               8760 non-null   int32         \n",
      " 19  functioning_day           8760 non-null   int64         \n",
      " 20  is_holiday                8760 non-null   int64         \n",
      " 21  Hour_PM                   8760 non-null   int64         \n",
      " 22  Hour_lab                  8760 non-null   int64         \n",
      "dtypes: datetime64[ns](1), float64(6), int32(4), int64(8), object(4)\n",
      "memory usage: 1.4+ MB\n"
     ]
    }
   ],
   "source": [
    "missing_values = df.isnull().sum()\n",
    "print(missing_values)\n",
    "\n",
    "print(df.dtypes)\n",
    "\n",
    "df.info()\n",
    "\n"
   ]
  },
  {
   "cell_type": "markdown",
   "metadata": {},
   "source": [
    "### EXPLORACION DE DATOS - TAREA 2"
   ]
  },
  {
   "cell_type": "markdown",
   "metadata": {},
   "source": [
    "# Box plot de variables para identificar outliers"
   ]
  },
  {
   "cell_type": "code",
   "execution_count": null,
   "metadata": {},
   "outputs": [],
   "source": [
    "import matplotlib.pyplot as plt\n",
    "\n",
    "df.boxplot()\n",
    "plt.title('Boxplots de Todas las Variables')\n",
    "#plt.xticks(rotation=45)  # Rotar etiquetas del eje x si es necesario\n",
    "plt.show()"
   ]
  }
 ],
 "metadata": {
  "kernelspec": {
   "display_name": "Python 3",
   "language": "python",
   "name": "python3"
  },
  "language_info": {
   "codemirror_mode": {
    "name": "ipython",
    "version": 3
   },
   "file_extension": ".py",
   "mimetype": "text/x-python",
   "name": "python",
   "nbconvert_exporter": "python",
   "pygments_lexer": "ipython3",
   "version": "3.11.9"
  }
 },
 "nbformat": 4,
 "nbformat_minor": 2
}
